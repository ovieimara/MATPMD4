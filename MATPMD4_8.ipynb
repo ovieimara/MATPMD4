{
  "nbformat": 4,
  "nbformat_minor": 0,
  "metadata": {
    "colab": {
      "provenance": [],
      "authorship_tag": "ABX9TyNsnUaaCO169gaMqCp63Vfg",
      "include_colab_link": true
    },
    "kernelspec": {
      "name": "python3",
      "display_name": "Python 3"
    },
    "language_info": {
      "name": "python"
    }
  },
  "cells": [
    {
      "cell_type": "markdown",
      "metadata": {
        "id": "view-in-github",
        "colab_type": "text"
      },
      "source": [
        "<a href=\"https://colab.research.google.com/github/ovieimara/MATPMD4/blob/master/MATPMD4_8.ipynb\" target=\"_parent\"><img src=\"https://colab.research.google.com/assets/colab-badge.svg\" alt=\"Open In Colab\"/></a>"
      ]
    },
    {
      "cell_type": "code",
      "source": [
        "import numpy as np\n",
        "import matplotlib.pyplot as plt\n",
        "import math, random"
      ],
      "metadata": {
        "id": "Wgie_A_Lwxpz"
      },
      "execution_count": null,
      "outputs": []
    },
    {
      "cell_type": "code",
      "execution_count": null,
      "metadata": {
        "id": "bQs78yXewgiW"
      },
      "outputs": [],
      "source": []
    },
    {
      "cell_type": "code",
      "source": [
        "def f(x):\n",
        "  return np.exp(x) * np.sin(5*x)\n",
        "\n",
        "def run_hill(steps=200, n =100):\n",
        "\n",
        "  xbest = np.random.uniform(0,4)\n",
        "  fbest = f(xbest)\n",
        "  for _ in range(n):\n",
        "\n",
        "    for i in range(steps):\n",
        "        xnew = xbest + np.random.normal(0,0.1)\n",
        "        xnew = np.clip(xnew, 0, 4)\n",
        "        fnew = f(xnew)\n",
        "        if fnew > fbest:\n",
        "            xbest = xnew\n",
        "            fbest = fnew\n",
        "\n",
        "  print ('x=' , xbest, 'f=', fbest)"
      ],
      "metadata": {
        "id": "mdi6j6F_xNjR"
      },
      "execution_count": null,
      "outputs": []
    },
    {
      "cell_type": "code",
      "source": [
        "run_hill(2000000, 10)"
      ],
      "metadata": {
        "colab": {
          "base_uri": "https://localhost:8080/"
        },
        "id": "uNzkKbE60gKr",
        "outputId": "2dcdd439-59b2-469a-dc39-6cc99c768c74"
      },
      "execution_count": null,
      "outputs": [
        {
          "output_type": "stream",
          "name": "stdout",
          "text": [
            "x= 2.8669125024718958 f= 17.24120474551185\n"
          ]
        }
      ]
    },
    {
      "cell_type": "code",
      "source": [
        "def run_random(steps=200, n =100):\n",
        "  xbest = np.random.uniform(0,4)\n",
        "  fbest = f(xbest)\n",
        "  steps = 200\n",
        "\n",
        "  for _ in range(n):\n",
        "    for i in range(steps):\n",
        "        xnew = random.uniform(0,4)\n",
        "        xnew = np.clip(xnew, 0, 4)\n",
        "        fnew = f(xnew)\n",
        "\n",
        "        if fnew > fbest:\n",
        "            xbest = xnew\n",
        "            fbest = fnew\n",
        "\n",
        "  print ('x=' , xbest, 'f=', fbest)\n",
        "\n",
        "run_random(2000000000, 1000)"
      ],
      "metadata": {
        "colab": {
          "base_uri": "https://localhost:8080/"
        },
        "id": "5By2A-3N4XYN",
        "outputId": "df72bc0f-cc65-455f-bd67-aaeb321803cc"
      },
      "execution_count": null,
      "outputs": [
        {
          "output_type": "stream",
          "name": "stdout",
          "text": [
            "x= 3.999995364927894 f= 49.84437436586853\n"
          ]
        }
      ]
    },
    {
      "cell_type": "code",
      "source": [
        "def f(x, y):\n",
        "  return 0.5 * (x + y) * np.exp(-0.5*(x+y)) + np.sin(0.5 * x**2) * np.cos(2*y)\n",
        "\n",
        "def run_hill2(f=f, steps=200, n =100):\n",
        "\n",
        "  xbest = np.random.uniform(0,4)\n",
        "  ybest = np.random.uniform(0,4)\n",
        "  fbest = f(xbest, ybest)\n",
        "\n",
        "  for _ in range(n):\n",
        "    for i in range(steps):\n",
        "        xnew = xbest + np.random.normal(0,0.1)\n",
        "        ynew = xbest + np.random.normal(0,0.1)\n",
        "\n",
        "        xnew = np.clip(xnew, 0, 4)\n",
        "        ynew = np.clip(xnew, 0, 4)\n",
        "        fnew = f(xnew, ynew)\n",
        "\n",
        "        if fnew > fbest:\n",
        "            xbest = xnew\n",
        "            ybest = ynew\n",
        "            fbest = fnew\n",
        "\n",
        "  print ('x=' , xbest, 'y=', ybest, 'f=', fbest)\n",
        "\n",
        "run_hill2(f, 200000, 10)"
      ],
      "metadata": {
        "colab": {
          "base_uri": "https://localhost:8080/"
        },
        "id": "rwQZy0Ou02d6",
        "outputId": "854fd624-8fe5-4dbe-9bef-3dba5f707e81"
      },
      "execution_count": null,
      "outputs": [
        {
          "output_type": "stream",
          "name": "stdout",
          "text": [
            "x= 0.582772478516496 y= 0.12262415806423421 f= 0.41181261611591435\n"
          ]
        }
      ]
    },
    {
      "cell_type": "code",
      "source": [
        "def run_random2(f, steps=200, n =10):\n",
        "  xbest = random.uniform(0,5)\n",
        "  ybest = random.uniform(0,5)\n",
        "  fbest = f(xbest,ybest)\n",
        "\n",
        "  for _ in range(n):\n",
        "    for i in range(steps):\n",
        "        xnew = random.uniform(0,5)\n",
        "        ynew = random.uniform(0,5)\n",
        "        fnew = f(xnew,ynew)\n",
        "\n",
        "        if fnew > fbest:\n",
        "            xbest = xnew\n",
        "            ybest = ynew\n",
        "            fbest = fnew\n",
        "\n",
        "  print ('x=' , xbest, 'y=', ybest, 'f=', fbest)\n",
        "\n",
        "run_random2(f, 200000)"
      ],
      "metadata": {
        "colab": {
          "base_uri": "https://localhost:8080/"
        },
        "id": "80Pwezna70Jb",
        "outputId": "eb8133ad-6057-4c06-8355-2687ac6fdf92"
      },
      "execution_count": null,
      "outputs": [
        {
          "output_type": "stream",
          "name": "stdout",
          "text": [
            "x= 1.7794739979562308 y= 0.006149937399271832 f= 1.3654554883352432\n"
          ]
        }
      ]
    },
    {
      "cell_type": "code",
      "source": [
        "def f(x, y):\n",
        "   return np.sin(x) * np.sin(2*y) * np.cos(2*x + y)\n",
        "\n",
        "run_hill2(f, 200000, 10)"
      ],
      "metadata": {
        "colab": {
          "base_uri": "https://localhost:8080/"
        },
        "id": "dVeWaKr59Aq3",
        "outputId": "09887731-c3bf-4012-e288-9d5c6ab635ec"
      },
      "execution_count": null,
      "outputs": [
        {
          "output_type": "stream",
          "name": "stdout",
          "text": [
            "x= 0.34786036532983156 y= 0.34786036532983156 f= 0.10992746834287671\n"
          ]
        }
      ]
    },
    {
      "cell_type": "code",
      "source": [
        "run_random2(f, 200000)"
      ],
      "metadata": {
        "colab": {
          "base_uri": "https://localhost:8080/"
        },
        "id": "UsL-vFSA99nS",
        "outputId": "0b8b12d4-4d52-47f5-d048-54b160dedf95"
      },
      "execution_count": null,
      "outputs": [
        {
          "output_type": "stream",
          "name": "stdout",
          "text": [
            "x= 1.2723221507488836 y= 3.890148301544047 f= 0.942259256384919\n"
          ]
        }
      ]
    },
    {
      "cell_type": "code",
      "source": [
        "def f(x, y):\n",
        "  return -np.exp(np.cos(60*y))- 2 * np.sin(5 * np.exp(0.5 * x + y)) + np.cos(25 * (x + y))- x*y\n",
        "\n",
        "run_hill2(f, 200000, 10)"
      ],
      "metadata": {
        "colab": {
          "base_uri": "https://localhost:8080/"
        },
        "id": "V0NaccbP-OPZ",
        "outputId": "172e791b-c00c-40db-b652-766399fa6db3"
      },
      "execution_count": null,
      "outputs": [
        {
          "output_type": "stream",
          "name": "stdout",
          "text": [
            "x= 0.49185099861094744 y= 0.49185099861094744 f= 1.611519124874839\n"
          ]
        }
      ]
    },
    {
      "cell_type": "code",
      "source": [
        "run_random2(f, 2000000, 10)"
      ],
      "metadata": {
        "colab": {
          "base_uri": "https://localhost:8080/"
        },
        "id": "4T3ddfCq-vy_",
        "outputId": "7b46f1e9-7c50-4fd7-e7d0-d4488abdf606"
      },
      "execution_count": null,
      "outputs": [
        {
          "output_type": "stream",
          "name": "stdout",
          "text": [
            "x= 0.0011136729773653098 y= 4.768593578270873 f= 2.6052518143506913\n"
          ]
        }
      ]
    },
    {
      "cell_type": "code",
      "source": [
        "def f(x,y,z):\n",
        "    f = math.sin(x)*math.sin(2*y-z)*math.cos(3*x+y)\n",
        "    return f\n",
        "\n",
        "def run_random3(f=f, steps=200, n =100):\n",
        "  xbest = random.uniform(0,10)\n",
        "  ybest = random.uniform(0,10)\n",
        "  zbest = random.uniform(0,10)\n",
        "  xbest = np.clip(xbest, 0, 10)\n",
        "  ybest = np.clip(ybest, 0, 10)\n",
        "  zbest = np.clip(zbest, 0, 10)\n",
        "\n",
        "  fbest = f(xbest,ybest,zbest)\n",
        "\n",
        "  steps = 200\n",
        "\n",
        "  for i in range(n):\n",
        "\n",
        "    for i in range(steps):\n",
        "        xnew = random.uniform(0,10)\n",
        "        ynew = random.uniform(0,10)\n",
        "        znew = random.uniform(0,10)\n",
        "        fnew = f(xnew,ynew,znew)\n",
        "\n",
        "        if fnew > fbest:\n",
        "            xbest = xnew\n",
        "            ybest = ynew\n",
        "            zbest = znew\n",
        "            fbest = fnew\n",
        "\n",
        "  print ('x=' , xbest, 'y=', ybest, 'z=', zbest, 'f=', fbest)\n",
        "run_random3(f, 20000000)"
      ],
      "metadata": {
        "colab": {
          "base_uri": "https://localhost:8080/"
        },
        "id": "VqLiJToS_QTj",
        "outputId": "abcb632e-da7a-4aaf-b6c7-8b0e959c3b98"
      },
      "execution_count": null,
      "outputs": [
        {
          "output_type": "stream",
          "name": "stdout",
          "text": [
            "x= 4.72913275096102 y= 7.715494237767167 z= 7.570657862357967 f= 0.9959482575298909\n"
          ]
        }
      ]
    }
  ]
}