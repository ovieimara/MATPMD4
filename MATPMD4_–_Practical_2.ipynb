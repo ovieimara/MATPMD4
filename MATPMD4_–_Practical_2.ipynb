{
  "nbformat": 4,
  "nbformat_minor": 0,
  "metadata": {
    "colab": {
      "provenance": [],
      "authorship_tag": "ABX9TyMET8Eh99DQI22YXtyH+09w",
      "include_colab_link": true
    },
    "kernelspec": {
      "name": "python3",
      "display_name": "Python 3"
    },
    "language_info": {
      "name": "python"
    }
  },
  "cells": [
    {
      "cell_type": "markdown",
      "metadata": {
        "id": "view-in-github",
        "colab_type": "text"
      },
      "source": [
        "<a href=\"https://colab.research.google.com/github/ovieimara/MATPMD4/blob/master/MATPMD4_%E2%80%93_Practical_2.ipynb\" target=\"_parent\"><img src=\"https://colab.research.google.com/assets/colab-badge.svg\" alt=\"Open In Colab\"/></a>"
      ]
    },
    {
      "cell_type": "code",
      "source": [
        "!pip install pygraphviz\n",
        "!pip install pydot"
      ],
      "metadata": {
        "colab": {
          "base_uri": "https://localhost:8080/"
        },
        "id": "3PYfFZc9nnQu",
        "outputId": "ab66bcc8-8d10-41df-9af9-c26d8ecebe40"
      },
      "execution_count": 29,
      "outputs": [
        {
          "output_type": "stream",
          "name": "stdout",
          "text": [
            "Collecting pygraphviz\n",
            "  Using cached pygraphviz-1.14.tar.gz (106 kB)\n",
            "  Installing build dependencies ... \u001b[?25l\u001b[?25hdone\n",
            "  Getting requirements to build wheel ... \u001b[?25l\u001b[?25hdone\n",
            "  Preparing metadata (pyproject.toml) ... \u001b[?25l\u001b[?25hdone\n",
            "Building wheels for collected packages: pygraphviz\n",
            "  \u001b[1;31merror\u001b[0m: \u001b[1msubprocess-exited-with-error\u001b[0m\n",
            "  \n",
            "  \u001b[31m×\u001b[0m \u001b[32mBuilding wheel for pygraphviz \u001b[0m\u001b[1;32m(\u001b[0m\u001b[32mpyproject.toml\u001b[0m\u001b[1;32m)\u001b[0m did not run successfully.\n",
            "  \u001b[31m│\u001b[0m exit code: \u001b[1;36m1\u001b[0m\n",
            "  \u001b[31m╰─>\u001b[0m See above for output.\n",
            "  \n",
            "  \u001b[1;35mnote\u001b[0m: This error originates from a subprocess, and is likely not a problem with pip.\n",
            "  Building wheel for pygraphviz (pyproject.toml) ... \u001b[?25l\u001b[?25herror\n",
            "\u001b[31m  ERROR: Failed building wheel for pygraphviz\u001b[0m\u001b[31m\n",
            "\u001b[0mFailed to build pygraphviz\n",
            "\u001b[31mERROR: ERROR: Failed to build installable wheels for some pyproject.toml based projects (pygraphviz)\u001b[0m\u001b[31m\n",
            "\u001b[0mRequirement already satisfied: pydot in /usr/local/lib/python3.11/dist-packages (3.0.4)\n",
            "Requirement already satisfied: pyparsing>=3.0.9 in /usr/local/lib/python3.11/dist-packages (from pydot) (3.2.1)\n"
          ]
        }
      ]
    },
    {
      "cell_type": "code",
      "execution_count": 2,
      "metadata": {
        "id": "SxuaC6SwcdjK"
      },
      "outputs": [],
      "source": [
        "import numpy as np"
      ]
    },
    {
      "cell_type": "code",
      "source": [
        "arr = [\n",
        "        [ 1 , 2 , 4 ],\n",
        "        [1 , 3 , 3 ],\n",
        "        [ 0 , -1, -4]\n",
        "      ]\n",
        "a = np.array(arr)\n",
        "display(a)"
      ],
      "metadata": {
        "colab": {
          "base_uri": "https://localhost:8080/",
          "height": 71
        },
        "id": "daQDMOSodHlD",
        "outputId": "399964e0-1287-4057-f234-a0c215499876"
      },
      "execution_count": 8,
      "outputs": [
        {
          "output_type": "display_data",
          "data": {
            "text/plain": [
              "array([[ 1,  2,  4],\n",
              "       [ 1,  3,  3],\n",
              "       [ 0, -1, -4]])"
            ]
          },
          "metadata": {}
        }
      ]
    },
    {
      "cell_type": "code",
      "source": [
        "arr = [\n",
        "        [ 1 , 2 , 4, 6],\n",
        "        [1 , 3 , 3, 8 ],\n",
        "        [ 0 , -1, -4, 1]\n",
        "      ]\n",
        "a = np.matrix(a)\n",
        "display(a)"
      ],
      "metadata": {
        "colab": {
          "base_uri": "https://localhost:8080/",
          "height": 71
        },
        "id": "pz-vV20WeYrY",
        "outputId": "81f3e0da-032a-45ac-d0f3-caf099ad0c19"
      },
      "execution_count": 9,
      "outputs": [
        {
          "output_type": "display_data",
          "data": {
            "text/plain": [
              "matrix([[ 1,  2,  4],\n",
              "        [ 1,  3,  3],\n",
              "        [ 0, -1, -4]])"
            ]
          },
          "metadata": {}
        }
      ]
    },
    {
      "cell_type": "code",
      "source": [
        "det_a = np.linalg.det(a)\n",
        "display(det_a)"
      ],
      "metadata": {
        "colab": {
          "base_uri": "https://localhost:8080/",
          "height": 35
        },
        "id": "glCVkVVievk_",
        "outputId": "38eb22b6-935d-4b37-f1e3-c8c8fce7fef4"
      },
      "execution_count": 12,
      "outputs": [
        {
          "output_type": "display_data",
          "data": {
            "text/plain": [
              "-4.999999999999999"
            ]
          },
          "metadata": {}
        }
      ]
    },
    {
      "cell_type": "code",
      "source": [
        "tranpose_a = np.transpose(a)\n",
        "display(tranpose_a)"
      ],
      "metadata": {
        "colab": {
          "base_uri": "https://localhost:8080/",
          "height": 71
        },
        "id": "ZKfLuiBGe4Ly",
        "outputId": "8e1fccea-3802-415a-b14c-4e2ee0708dfd"
      },
      "execution_count": 13,
      "outputs": [
        {
          "output_type": "display_data",
          "data": {
            "text/plain": [
              "matrix([[ 1,  1,  0],\n",
              "        [ 2,  3, -1],\n",
              "        [ 4,  3, -4]])"
            ]
          },
          "metadata": {}
        }
      ]
    },
    {
      "cell_type": "code",
      "source": [
        "inv_a = np.linalg.inv(a)\n",
        "display(inv_a)"
      ],
      "metadata": {
        "colab": {
          "base_uri": "https://localhost:8080/",
          "height": 71
        },
        "id": "6xjYW61wf6PS",
        "outputId": "5cb9fb18-a66f-4625-8d15-24ecb8e0157f"
      },
      "execution_count": 14,
      "outputs": [
        {
          "output_type": "display_data",
          "data": {
            "text/plain": [
              "matrix([[ 1.8, -0.8,  1.2],\n",
              "        [-0.8,  0.8, -0.2],\n",
              "        [ 0.2, -0.2, -0.2]])"
            ]
          },
          "metadata": {}
        }
      ]
    },
    {
      "cell_type": "code",
      "source": [
        "np.dot(a, inv_a)"
      ],
      "metadata": {
        "colab": {
          "base_uri": "https://localhost:8080/"
        },
        "id": "H18jEAWlgF2h",
        "outputId": "6155a134-c61b-4d0a-b230-68bc8053fd02"
      },
      "execution_count": 15,
      "outputs": [
        {
          "output_type": "execute_result",
          "data": {
            "text/plain": [
              "matrix([[ 1.00000000e+00,  0.00000000e+00,  1.11022302e-16],\n",
              "        [-5.55111512e-17,  1.00000000e+00,  5.55111512e-17],\n",
              "        [ 0.00000000e+00,  0.00000000e+00,  1.00000000e+00]])"
            ]
          },
          "metadata": {},
          "execution_count": 15
        }
      ]
    },
    {
      "cell_type": "code",
      "source": [
        "def matrix_power(m, i):\n",
        "  return np.linalg.matrix_power(m, i)\n"
      ],
      "metadata": {
        "id": "8YAIlpZgggnZ"
      },
      "execution_count": 16,
      "outputs": []
    },
    {
      "cell_type": "code",
      "source": [
        "display(matrix_power(a, 1))\n",
        "display(matrix_power(a, 2))\n",
        "display(matrix_power(a, -1))\n",
        "display(matrix_power(a, 4))"
      ],
      "metadata": {
        "colab": {
          "base_uri": "https://localhost:8080/",
          "height": 231
        },
        "id": "qGQA3TTPgyms",
        "outputId": "caf11b91-1eac-4ef8-ca99-01f7e1deb931"
      },
      "execution_count": 19,
      "outputs": [
        {
          "output_type": "display_data",
          "data": {
            "text/plain": [
              "matrix([[ 1,  2,  4],\n",
              "        [ 1,  3,  3],\n",
              "        [ 0, -1, -4]])"
            ]
          },
          "metadata": {}
        },
        {
          "output_type": "display_data",
          "data": {
            "text/plain": [
              "matrix([[ 3,  4, -6],\n",
              "        [ 4,  8,  1],\n",
              "        [-1,  1, 13]])"
            ]
          },
          "metadata": {}
        },
        {
          "output_type": "display_data",
          "data": {
            "text/plain": [
              "matrix([[ 1.8, -0.8,  1.2],\n",
              "        [-0.8,  0.8, -0.2],\n",
              "        [ 0.2, -0.2, -0.2]])"
            ]
          },
          "metadata": {}
        },
        {
          "output_type": "display_data",
          "data": {
            "text/plain": [
              "matrix([[ 31,  38, -92],\n",
              "        [ 43,  81,  -3],\n",
              "        [-12,  17, 176]])"
            ]
          },
          "metadata": {}
        }
      ]
    },
    {
      "cell_type": "markdown",
      "source": [
        "Calculate and print the eigenvalues and eigenvectors of the matrix, a. To\n",
        "calculate the eigenvalues of a matrix we use the commands np.linalg.eig(a)\n",
        "which returns the eigenvalues and right eigenvectors of a square array"
      ],
      "metadata": {
        "id": "ftE4GCoXhpti"
      }
    },
    {
      "cell_type": "code",
      "source": [
        "np.linalg.eig(a)"
      ],
      "metadata": {
        "colab": {
          "base_uri": "https://localhost:8080/"
        },
        "id": "qsqXJRQ5hkDI",
        "outputId": "a68dbffc-7a9f-41e9-d3cf-d1b389254e27"
      },
      "execution_count": 20,
      "outputs": [
        {
          "output_type": "execute_result",
          "data": {
            "text/plain": [
              "EigResult(eigenvalues=array([ 3.23319369,  0.42297269, -3.65616639]), eigenvectors=matrix([[-0.54015376,  0.87992185, -0.55817891],\n",
              "        [-0.8336372 , -0.46342154, -0.26978406],\n",
              "        [ 0.11525161,  0.10477603,  0.7846355 ]]))"
            ]
          },
          "metadata": {},
          "execution_count": 20
        }
      ]
    },
    {
      "cell_type": "markdown",
      "source": [
        "Multiply two matrices together with either np.dot(a,b) or np.matmul(a,b).\n",
        "You can create new matrices for this one."
      ],
      "metadata": {
        "id": "xySUY1FLinR3"
      }
    },
    {
      "cell_type": "code",
      "source": [
        "b = np.array(arr)\n",
        "display(a)"
      ],
      "metadata": {
        "colab": {
          "base_uri": "https://localhost:8080/",
          "height": 71
        },
        "id": "DhUnj1MtimHK",
        "outputId": "2dfbf407-2eda-4887-e98c-16414f3fabbc"
      },
      "execution_count": 21,
      "outputs": [
        {
          "output_type": "display_data",
          "data": {
            "text/plain": [
              "matrix([[ 1,  2,  4],\n",
              "        [ 1,  3,  3],\n",
              "        [ 0, -1, -4]])"
            ]
          },
          "metadata": {}
        }
      ]
    },
    {
      "cell_type": "code",
      "source": [
        "np.dot(a, b)"
      ],
      "metadata": {
        "colab": {
          "base_uri": "https://localhost:8080/"
        },
        "id": "GrhGE4F2i4G9",
        "outputId": "adbad5d9-2ccd-44f8-a719-ed7c289c86b3"
      },
      "execution_count": 22,
      "outputs": [
        {
          "output_type": "execute_result",
          "data": {
            "text/plain": [
              "matrix([[  3,   4,  -6,  26],\n",
              "        [  4,   8,   1,  33],\n",
              "        [ -1,   1,  13, -12]])"
            ]
          },
          "metadata": {},
          "execution_count": 22
        }
      ]
    },
    {
      "cell_type": "markdown",
      "source": [
        "Task 3: Solve the system of equations:\n",
        "\n",
        "2x1 + x2 + x3 = 7\n",
        "\n",
        "x1 + 2x2 − x3 = −4\n",
        "\n",
        "−x1 + 3x2 + 2x3 = 3\n",
        "\n",
        "Hint: if you represent the coefficients in the equations as A and the vector\n",
        "(column matrix) of the solutions as b, you can reepresent these equations\n",
        "as the matrix equation Ax = b and so solve these equations as either c =\n",
        "np.linalg.solve(a, b) or c = np.matmul(np.linalg.inv(a), b). However, as\n",
        "the article says, it’s usually a good idea to avoid inverting a matrix."
      ],
      "metadata": {
        "id": "D2OwBUGslPkn"
      }
    },
    {
      "cell_type": "code",
      "source": [
        "a = [\n",
        "    [2, 1, 1],\n",
        "    [1, 2, -1],\n",
        "    [-1, 3, 20]\n",
        "]\n",
        "b = [7, -4, 3]\n",
        "\n",
        "a = np.array(a)\n",
        "b = np.array(b)\n",
        "display(a)\n",
        "display(b)"
      ],
      "metadata": {
        "colab": {
          "base_uri": "https://localhost:8080/",
          "height": 88
        },
        "id": "BjWtqQr2lKa9",
        "outputId": "eae94623-2495-4aec-b504-a09fc9b98599"
      },
      "execution_count": 23,
      "outputs": [
        {
          "output_type": "display_data",
          "data": {
            "text/plain": [
              "array([[ 2,  1,  1],\n",
              "       [ 1,  2, -1],\n",
              "       [-1,  3, 20]])"
            ]
          },
          "metadata": {}
        },
        {
          "output_type": "display_data",
          "data": {
            "text/plain": [
              "array([ 7, -4,  3])"
            ]
          },
          "metadata": {}
        }
      ]
    },
    {
      "cell_type": "code",
      "source": [
        "c = np.linalg.solve(a, b)\n",
        "display(c)"
      ],
      "metadata": {
        "colab": {
          "base_uri": "https://localhost:8080/",
          "height": 35
        },
        "id": "0WPzWSrvmuTN",
        "outputId": "59c64236-6467-429a-d57a-753b11b84c95"
      },
      "execution_count": 24,
      "outputs": [
        {
          "output_type": "display_data",
          "data": {
            "text/plain": [
              "array([ 5., -4.,  1.])"
            ]
          },
          "metadata": {}
        }
      ]
    },
    {
      "cell_type": "code",
      "source": [
        "np.matmul(np.linalg.inv(a), b)"
      ],
      "metadata": {
        "colab": {
          "base_uri": "https://localhost:8080/"
        },
        "id": "tFJxYW5MnRfO",
        "outputId": "d0e4ba5e-4403-450d-f7dd-9bd86b7def26"
      },
      "execution_count": 25,
      "outputs": [
        {
          "output_type": "execute_result",
          "data": {
            "text/plain": [
              "array([ 5., -4.,  1.])"
            ]
          },
          "metadata": {},
          "execution_count": 25
        }
      ]
    },
    {
      "cell_type": "code",
      "source": [
        "import networkx as nx\n",
        "from graphviz import Digraph , Source\n",
        "from IPython.display import Image"
      ],
      "metadata": {
        "id": "xE3PY_fmnZXI"
      },
      "execution_count": 40,
      "outputs": []
    },
    {
      "cell_type": "code",
      "source": [
        "G = nx . MultiDiGraph ( directed = True )\n",
        "G.add_edge('H' , 'H' , weight = 0.6 )\n",
        "G.add_edge('H' , 'T' , weight = 0.4 )\n",
        "G.add_edge('T' , 'H' , weight = 0.6 )\n",
        "G.add_edge('T' , 'T' , weight = 0.4 )\n",
        "dot = Digraph()\n",
        "\n",
        "for u , v , d in G.edges( data = True ):\n",
        "  dot.edge(u, v, label = str(d.get('weight' , '' )))\n",
        "\n",
        "src = Source(dot.source)\n",
        "src.format = 'png'\n",
        "Image(src.render() )\n"
      ],
      "metadata": {
        "colab": {
          "base_uri": "https://localhost:8080/",
          "height": 192
        },
        "id": "zUnOc76ToV_T",
        "outputId": "e41295d1-a446-4387-8531-12c99e48b7e5"
      },
      "execution_count": 42,
      "outputs": [
        {
          "output_type": "execute_result",
          "data": {
            "image/png": "[encoded data removed]",
            "text/plain": [
              "<IPython.core.display.Image object>"
            ]
          },
          "metadata": {},
          "execution_count": 42
        }
      ]
    },
    {
      "cell_type": "code",
      "source": [
        "G = nx . MultiDiGraph ( directed = True )\n",
        "G.add_edge('R' , 'F' , weight = 0.25 )\n",
        "G.add_edge('F' , 'N' , weight = 0.2 )\n",
        "G.add_edge('R' , 'N' , weight = 0.75 )\n",
        "G.add_edge('N' , 'F' , weight = 0.6 )\n",
        "G.add_edge('F' , 'F' , weight = 0.8 )\n",
        "G.add_edge('N' , 'R' , weight = 0.4 )\n",
        "dot = Digraph()\n",
        "\n",
        "for u , v , d in G.edges( data = True ):\n",
        "  dot.edge(u, v, label = str(d.get('weight' , '' )))\n",
        "\n",
        "src = Source(dot.source)\n",
        "src.format = 'png'\n",
        "Image(src.render() )"
      ],
      "metadata": {
        "colab": {
          "base_uri": "https://localhost:8080/",
          "height": 308
        },
        "id": "aL7Vx0NprKjX",
        "outputId": "ad88eed1-965a-4f9c-eac1-eac2114e3c70"
      },
      "execution_count": 43,
      "outputs": [
        {
          "output_type": "execute_result",
          "data": {
            "image/png": "[encoded data removed]",
            "text/plain": [
              "<IPython.core.display.Image object>"
            ]
          },
          "metadata": {},
          "execution_count": 43
        }
      ]
    }
  ]
}