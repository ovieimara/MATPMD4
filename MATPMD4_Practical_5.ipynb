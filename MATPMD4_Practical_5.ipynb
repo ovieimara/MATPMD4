{
  "nbformat": 4,
  "nbformat_minor": 0,
  "metadata": {
    "colab": {
      "provenance": [],
      "authorship_tag": "ABX9TyNZkPPHGddA6pQpCcD/kJS/",
      "include_colab_link": true
    },
    "kernelspec": {
      "name": "python3",
      "display_name": "Python 3"
    },
    "language_info": {
      "name": "python"
    }
  },
  "cells": [
    {
      "cell_type": "markdown",
      "metadata": {
        "id": "view-in-github",
        "colab_type": "text"
      },
      "source": [
        "<a href=\"https://colab.research.google.com/github/ovieimara/MATPMD4/blob/master/MATPMD4_Practical_5.ipynb\" target=\"_parent\"><img src=\"https://colab.research.google.com/assets/colab-badge.svg\" alt=\"Open In Colab\"/></a>"
      ]
    },
    {
      "cell_type": "code",
      "source": [
        "import numpy as np\n",
        "import random"
      ],
      "metadata": {
        "id": "hSQwfWCothmW"
      },
      "execution_count": 5,
      "outputs": []
    },
    {
      "cell_type": "markdown",
      "source": [
        "1. Choose a random x in the range [x0, x1], similar for y and z\n",
        "\n",
        "2. Calculate the value of f (x, y, z)\n",
        "\n",
        "3. Repeat many (N) times and save the values of f (x, y, z)\n",
        "\n",
        "f(x) = cos(2x)^2 dx\n",
        "\n",
        "Calculate (x1 − x0)(y1 − y0)(z1 − z0)\n",
        "N\n",
        "N\n",
        "∑\n",
        "i\n",
        "f (Xi,Yi, Zi)"
      ],
      "metadata": {
        "id": "PMFski08qx22"
      }
    },
    {
      "cell_type": "code",
      "execution_count": 12,
      "metadata": {
        "id": "oP8oQAI-m3jX"
      },
      "outputs": [],
      "source": [
        "def mc_integrate(n, x_0, x_1):\n",
        "  arr = [np.cos(2*np.random.uniform(x_0, x_1))**2 for i in range(n)]\n",
        "  return ((x_1 - x_0)/n) * np.sum(arr)\n"
      ]
    },
    {
      "cell_type": "code",
      "source": [
        "mc_integrate(n=10000, x_0=0, x_1=1)"
      ],
      "metadata": {
        "colab": {
          "base_uri": "https://localhost:8080/"
        },
        "id": "SZzk2y1CtW-g",
        "outputId": "99c37f42-ee02-45c7-8e51-f88d80231bed"
      },
      "execution_count": 11,
      "outputs": [
        {
          "output_type": "execute_result",
          "data": {
            "text/plain": [
              "0.408753177320779"
            ]
          },
          "metadata": {},
          "execution_count": 11
        }
      ]
    }
  ]
}