{
  "nbformat": 4,
  "nbformat_minor": 0,
  "metadata": {
    "colab": {
      "provenance": [],
      "gpuType": "T4",
      "authorship_tag": "ABX9TyMVUiF1oPFcHw0cnfeeAWIs",
      "include_colab_link": true
    },
    "kernelspec": {
      "name": "python3",
      "display_name": "Python 3"
    },
    "language_info": {
      "name": "python"
    }
  },
  "cells": [
    {
      "cell_type": "markdown",
      "metadata": {
        "id": "view-in-github",
        "colab_type": "text"
      },
      "source": [
        "<a href=\"https://colab.research.google.com/github/ovieimara/MATPMD4/blob/master/Project_2_Optimisation_3422868.ipynb\" target=\"_parent\"><img src=\"https://colab.research.google.com/assets/colab-badge.svg\" alt=\"Open In Colab\"/></a>"
      ]
    },
    {
      "cell_type": "code",
      "source": [
        "import numpy as np\n",
        "import matplotlib.pyplot as plt\n",
        "from typing import List, Tuple, Dict, Set, Optional, Any, Callable"
      ],
      "metadata": {
        "id": "GLnKKTF7DRyT"
      },
      "execution_count": 2,
      "outputs": []
    },
    {
      "cell_type": "code",
      "execution_count": 3,
      "metadata": {
        "colab": {
          "base_uri": "https://localhost:8080/"
        },
        "id": "hisXQ2vbCm_I",
        "outputId": "be2350f3-ceeb-4a80-8b69-99e387645f25"
      },
      "outputs": [
        {
          "output_type": "execute_result",
          "data": {
            "text/plain": [
              "2.928028685538096"
            ]
          },
          "metadata": {},
          "execution_count": 3
        }
      ],
      "source": [
        "def f(x: int, y: int, z: int):\n",
        "  return np.exp(-y**2) * np.cos(77*y) - np.sin(43*x) + 0.5 * z**2 * np.exp(np.sin(73*z)) + 0.1 * (x**2 + y**2 + z**2) + np.cos(73 * np.sin(z)) - np.cos(71*x) - np.sin(73*y)\n",
        "\n",
        "f(1, 2, 3)"
      ]
    },
    {
      "cell_type": "code",
      "source": [
        "def maximize(constraint: Tuple[int, int], steps: int=200, n: int = 10) -> None:\n",
        "  left, right = constraint\n",
        "\n",
        "  xbest = np.random.uniform(left,right)\n",
        "  ybest = np.random.uniform(left,right)\n",
        "  zbest = np.random.uniform(left,right)\n",
        "  fbest = f(xbest,ybest,zbest)\n",
        "\n",
        "  for i in range(n):\n",
        "    for i in range(steps):\n",
        "        xnew = np.random.uniform(left,right)\n",
        "        ynew = np.random.uniform(left, right)\n",
        "        znew = np.random.uniform(left, right)\n",
        "        fnew = f(xnew,ynew,znew)\n",
        "        if fnew > fbest:\n",
        "            xbest = xnew\n",
        "            ybest = ynew\n",
        "            zbest = znew\n",
        "            fbest = fnew\n",
        "\n",
        "  print ('x=' , xbest, 'y=', ybest, 'z=', zbest, 'f=', fbest)\n",
        "\n",
        "maximize((-1,1), 200000, 10)"
      ],
      "metadata": {
        "colab": {
          "base_uri": "https://localhost:8080/"
        },
        "id": "JfnC-IqJFdus",
        "outputId": "d224252a-1131-4556-faa4-df3bb2643d52"
      },
      "execution_count": 4,
      "outputs": [
        {
          "output_type": "stream",
          "name": "stdout",
          "text": [
            "x= -0.044417143866575914 y= 0.32403840603851686 z= 0.882139633169613 f= 5.953158316948977\n"
          ]
        }
      ]
    },
    {
      "cell_type": "code",
      "source": [
        "def simu_anneal(constraint: Tuple[int, int], dts: List[float], steps: int=200, n: int = 10) -> None:\n",
        "  left, right = constraint\n",
        "\n",
        "  xbest = np.random.uniform(left, right)\n",
        "  ybest = np.random.uniform(left, right)\n",
        "  zbest = np.random.uniform(left, right)\n",
        "  fbest = f(xbest, ybest, zbest)\n",
        "\n",
        "  for dt in dts:\n",
        "    for i in range(1, steps):\n",
        "        T=5*(1-i/steps)     #Tempertaure function\n",
        "        xnew = xbest + np.random.normal(0, dt)\n",
        "        ynew = ybest + np.random.normal(0, dt)\n",
        "        znew = zbest + np.random.normal(0, dt)\n",
        "        xnew = np.clip(xnew, left, right)\n",
        "        ynew = np.clip(ynew, left, right)\n",
        "        znew = np.clip(znew, left, right)\n",
        "\n",
        "        fnew = f(xnew, ynew, znew)\n",
        "        if fnew > fbest:\n",
        "            xbest = xnew\n",
        "            ybest = ynew\n",
        "            zbest = znew\n",
        "            fbest = fnew\n",
        "        elif np.random.random() < np.exp((fnew-fbest)/T):    #Accept worse solutions?\n",
        "            xbest = xnew\n",
        "            ybest = ynew\n",
        "            zbest = znew\n",
        "            fbest = fnew\n",
        "\n",
        "  print ('x=' , xbest, 'y=', ybest, 'z=', zbest, 'f=', fbest)\n",
        "dts = [0.001, 0.01, 0.02, 0.03, 0.04, 0.05, 0.06, 0.07, 0.08, 0.09, 0.1, 0.2, 0.3, 0.4, 0.5, 0.6, 0.7, 0.8, 0.9, 1]\n",
        "simu_anneal((-1,1), dts, 2000000, 10)"
      ],
      "metadata": {
        "colab": {
          "base_uri": "https://localhost:8080/"
        },
        "id": "s8r9VIIdkeuO",
        "outputId": "80043bb1-2677-4a9f-ed0d-94e1ad512958"
      },
      "execution_count": 12,
      "outputs": [
        {
          "output_type": "stream",
          "name": "stdout",
          "text": [
            "x= 0.40632024257601995 y= 0.2378667176008262 z= -0.7542581353471971 f= 5.441802158725209\n"
          ]
        }
      ]
    },
    {
      "cell_type": "code",
      "source": [
        "def run_hill(f: Callable[[float, float, float], None], constraint: Tuple[float, float], dts: List[float], steps: int=200, n: int = 10):\n",
        "  left, right = constraint\n",
        "\n",
        "  xbest = np.random.uniform(left, right)\n",
        "  ybest = np.random.uniform(left, right)\n",
        "  zbest = np.random.uniform(left, right)\n",
        "\n",
        "  fbest = f(xbest, ybest, zbest)\n",
        "\n",
        "  for _ in range(n):\n",
        "    for dt in dts:\n",
        "      for i in range(steps):\n",
        "\n",
        "        xnew = xbest + np.random.normal(0, dt)\n",
        "        ynew = ybest + np.random.normal(0, dt)\n",
        "        znew = zbest + np.random.normal(0, dt)\n",
        "\n",
        "        xnew = np.clip(xnew, left, right)\n",
        "        ynew = np.clip(ynew, left, right)\n",
        "        znew = np.clip(znew, left, right)\n",
        "\n",
        "        fnew = f(xnew, ynew, znew)\n",
        "\n",
        "        if fnew > fbest:\n",
        "            xbest = xnew\n",
        "            ybest = ynew\n",
        "            zbest = znew\n",
        "            fbest = fnew\n",
        "\n",
        "  print ('x=' , xbest, 'y=', ybest, 'z=', zbest, 'f=', fbest)\n",
        "\n",
        "dts = [0.06, 0.07, 0.08, 0.09, 0.1, 0.2, 0.3, 0.4, 0.5]\n",
        "run_hill(f, (-1,1), dts, 1000000, 10)"
      ],
      "metadata": {
        "colab": {
          "base_uri": "https://localhost:8080/"
        },
        "id": "aVdFsfKEJalL",
        "outputId": "5c6f7899-91fb-45af-efb2-e9464b39695f"
      },
      "execution_count": 48,
      "outputs": [
        {
          "output_type": "stream",
          "name": "stdout",
          "text": [
            "x= 0.8404251326973448 y= 0.3243823876472515 z= 0.8835095098124204 f= 6.090190286177924\n"
          ]
        }
      ]
    },
    {
      "cell_type": "markdown",
      "source": [
        "x= 0.8423679471385341 y= 0.3250019852617007 z= 0.8853071007095925 f= 6.067904805046483\n",
        "\n",
        "\n",
        "\n",
        "\n",
        "> Add blockquote\n",
        "\n"
      ],
      "metadata": {
        "id": "LWJjHoyuUUL1"
      }
    },
    {
      "cell_type": "code",
      "source": [
        "from scipy.optimize import differential_evolution\n",
        "\n",
        "# Perform global optimization\n",
        "# Modify the objective function to accept a single argument\n",
        "def objective_function(params):\n",
        "  \"\"\"Objective function for differential_evolution, accepting a single argument.\"\"\"\n",
        "  x, y, z = params  # Unpack the parameters\n",
        "  return -f(x, y, z)  # Negate to find the maximum\n",
        "\n",
        "result = differential_evolution(objective_function, [(-1, 1), (-1, 1), (-1, 1)])\n",
        "\n",
        "# Extract the results\n",
        "optimal_params = result.x\n",
        "max_value = -result.fun  # Negate to get the maximum value\n",
        "\n",
        "print(\"Optimal Parameters (x, y, z):\", optimal_params)\n",
        "print(\"Maximum Value of the Function:\", max_value)"
      ],
      "metadata": {
        "colab": {
          "base_uri": "https://localhost:8080/"
        },
        "id": "VQNS0LICoM1x",
        "outputId": "8c313525-6d9c-4f6a-8084-0dcd10ed5927"
      },
      "execution_count": 30,
      "outputs": [
        {
          "output_type": "stream",
          "name": "stdout",
          "text": [
            "Optimal Parameters (x, y, z): [0.84059422 0.32453517 0.88363839]\n",
            "Maximum Value of the Function: 6.090476315360809\n"
          ]
        }
      ]
    }
  ]
}